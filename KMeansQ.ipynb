{
 "cells": [
  {
   "cell_type": "code",
   "execution_count": 43,
   "metadata": {},
   "outputs": [
    {
     "name": "stdout",
     "output_type": "stream",
     "text": [
      "0\n",
      "50000\n",
      "100000\n",
      "150000\n",
      "200000\n",
      "250000\n",
      "300000\n",
      "350000\n",
      "400000\n",
      "450000\n",
      "500000\n",
      "550000\n",
      "600000\n",
      "650000\n",
      "700000\n",
      "750000\n",
      "800000\n",
      "850000\n",
      "900000\n",
      "950000\n",
      "1000000\n",
      "1050000\n",
      "1100000\n",
      "1150000\n",
      "1200000\n",
      "1250000\n",
      "1300000\n",
      "1350000\n",
      "1400000\n",
      "1450000\n",
      "1500000\n",
      "1550000\n",
      "1570961\n",
      "1570961\n",
      "50\n",
      "done\n"
     ]
    }
   ],
   "source": [
    "import numpy as np\n",
    "import pandas as pd\n",
    "import codecs\n",
    "from numpy.linalg import norm\n",
    "\n",
    "from sklearn.cluster import KMeans\n",
    "#read user vector text file\n",
    "count=0\n",
    "usersVec = \"/Users/curtisxuan/Desktop/Work/experiment2/userVecQ.txt\"\n",
    "users = []\n",
    "with codecs.open(usersVec, 'r', 'utf8') as f:\n",
    "    for line in f:\n",
    "#         if count<200:\n",
    "#             count+=1\n",
    "#             continue\n",
    "        if count%300000==0:\n",
    "            print(count)\n",
    "        user = line.rstrip().split(' ')\n",
    "        users.append(user)\n",
    "        count+=1\n",
    "print(len(users))\n",
    "\n",
    "X = np.array (users,dtype='float64')\n",
    "X = X[:,1:]\n",
    "print(len(X))\n",
    "print(len(X[0]))\n",
    "\n",
    "#normalize data, Y is normalized X\n",
    "L2norm = norm(X, axis=1, ord=2)\n",
    "# Y=X / L2norm.reshape(count,1)\n",
    "# print(Y)\n",
    "# print(L2norm)\n",
    "\n",
    "#erase rows with norm 0\n",
    "Y=[]\n",
    "count=0\n",
    "for i in L2norm:\n",
    "    if i!=0:    \n",
    "        Y.append(X[count]/i)\n",
    "    count+=1\n",
    "# print(Y)\n",
    "\n",
    "#Running K-Means-Cluster\n",
    "kmeans = KMeans(n_clusters=50)\n",
    "# kmeans.fit(X)\n",
    "kmeans.fit(Y) #normalized\n",
    "\n",
    "centroids = kmeans.cluster_centers_\n",
    "labels = kmeans.labels_\n",
    "\n",
    "print('done')\n",
    "#write centroids and labels\n",
    "out_file = \"/Users/curtisxuan/Desktop/Work/experiment2/centroidsQ.txt\"\n",
    "count=1\n",
    "with codecs.open(out_file, 'w', 'utf-8') as fw:\n",
    "    for i in centroids:\n",
    "        fw.write(str(count) + \" \")\n",
    "        for j in i:\n",
    "            fw.write(str(j) + \" \")\n",
    "        fw.write(\"\\n\")\n",
    "        count+=1\n",
    "# out_file = \"/Users/curtisxuan/Desktop/Work/KNN_Users/labels.txt\"\n",
    "out_file = \"./labelsQ.txt\"\n",
    "with codecs.open(out_file, 'w', 'utf-8') as fw:\n",
    "    for i in labels:\n",
    "        fw.write(str(i) + \" \")"
   ]
  },
  {
   "cell_type": "code",
   "execution_count": 36,
   "metadata": {},
   "outputs": [
    {
     "data": {
      "text/plain": [
       "[1, 3, 4, 5, 4, 3, 1]"
      ]
     },
     "execution_count": 36,
     "metadata": {},
     "output_type": "execute_result"
    }
   ],
   "source": []
  },
  {
   "cell_type": "code",
   "execution_count": null,
   "metadata": {},
   "outputs": [],
   "source": []
  }
 ],
 "metadata": {
  "kernelspec": {
   "display_name": "Python 3",
   "language": "python",
   "name": "python3"
  },
  "language_info": {
   "codemirror_mode": {
    "name": "ipython",
    "version": 3
   },
   "file_extension": ".py",
   "mimetype": "text/x-python",
   "name": "python",
   "nbconvert_exporter": "python",
   "pygments_lexer": "ipython3",
   "version": "3.7.3"
  }
 },
 "nbformat": 4,
 "nbformat_minor": 2
}
