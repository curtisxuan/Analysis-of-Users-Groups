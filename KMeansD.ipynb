{
 "cells": [
  {
   "cell_type": "code",
   "execution_count": 10,
   "metadata": {},
   "outputs": [
    {
     "name": "stdout",
     "output_type": "stream",
     "text": [
      "starting cluster alg\n",
      "done\n"
     ]
    }
   ],
   "source": [
    "import numpy as np\n",
    "import pandas as pd\n",
    "import codecs\n",
    "from numpy.linalg import norm\n",
    "\n",
    "from sklearn.cluster import KMeans\n",
    "#read user vector text file\n",
    "count=0\n",
    "usersVec = \"/Users/curtisxuan/Desktop/Work/experiment2/userVecD.txt\"\n",
    "users = []\n",
    "with codecs.open(usersVec, 'r', 'utf8') as f:\n",
    "    for line in f:\n",
    "        if count%100000==0:\n",
    "            print(count)\n",
    "        user = line.rstrip().split(' ')\n",
    "        users.append(user)\n",
    "        count+=1\n",
    "        \n",
    "        \n",
    "\n",
    "print(len(users))\n",
    "\n",
    "X = np.array (users,dtype='float64')\n",
    "X = X[:,1:]\n",
    "print(len(X))\n",
    "print(len(X[0]))\n",
    "\n",
    "#normalize data, Y is normalized X\n",
    "L2norm = norm(X, axis=1, ord=2)\n",
    "Y=X / L2norm.reshape(count,1)\n",
    "# print(Y)\n",
    "\n",
    "# count=0\n",
    "# for i in Y:\n",
    "#     count+=1\n",
    "#     for j in i:\n",
    "#         if abs(j)<0.0000001:   \n",
    "#             print(count)\n",
    "#             print(j)\n",
    "#             print(i)\n",
    "\n",
    "count=len(L2norm)\n",
    "for i in range(len(L2norm)-1,-1,-1):\n",
    "    count-=1\n",
    "    if L2norm[i]<0.0001:\n",
    "        Y = np.delete(Y, i, axis=0)\n",
    "\n",
    "\n",
    "print('starting cluster alg')\n",
    "        \n",
    "#Running K-Means-Cluster\n",
    "kmeans = KMeans(n_clusters=50)\n",
    "# kmeans.fit(X)\n",
    "kmeans.fit(Y) #normalized\n",
    "\n",
    "centroids = kmeans.cluster_centers_\n",
    "labels = kmeans.labels_\n",
    "\n",
    "print('done')\n",
    "#write centroids and labels\n",
    "out_file = \"/Users/curtisxuan/Downloads/centroidsD.txt\"\n",
    "count=1\n",
    "with codecs.open(out_file, 'w', 'utf-8') as fw:\n",
    "    for i in centroids:\n",
    "        fw.write(str(count) + \" \")\n",
    "        for j in i:\n",
    "            fw.write(str(j) + \" \")\n",
    "        fw.write(\"\\n\")\n",
    "        count+=1\n",
    "# out_file = \"/Users/curtisxuan/Desktop/Work/KNN_Users/labels.txt\"\n",
    "out_file = \"./labelsD.txt\"\n",
    "with codecs.open(out_file, 'w', 'utf-8') as fw:\n",
    "    for i in labels:\n",
    "        fw.write(str(i) + \" \")"
   ]
  },
  {
   "cell_type": "code",
   "execution_count": 5,
   "metadata": {},
   "outputs": [],
   "source": [
    "count=0\n",
    "for i in L2norm:\n",
    "    count+=1\n",
    "    if i<0.0001:\n",
    "        print(i)\n"
   ]
  },
  {
   "cell_type": "code",
   "execution_count": 11,
   "metadata": {},
   "outputs": [],
   "source": []
  },
  {
   "cell_type": "code",
   "execution_count": null,
   "metadata": {},
   "outputs": [],
   "source": []
  }
 ],
 "metadata": {
  "kernelspec": {
   "display_name": "Python 3",
   "language": "python",
   "name": "python3"
  },
  "language_info": {
   "codemirror_mode": {
    "name": "ipython",
    "version": 3
   },
   "file_extension": ".py",
   "mimetype": "text/x-python",
   "name": "python",
   "nbconvert_exporter": "python",
   "pygments_lexer": "ipython3",
   "version": "3.7.3"
  }
 },
 "nbformat": 4,
 "nbformat_minor": 2
}
